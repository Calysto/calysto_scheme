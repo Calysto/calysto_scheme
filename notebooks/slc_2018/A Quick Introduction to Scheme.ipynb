{
 "cells": [
  {
   "cell_type": "markdown",
   "metadata": {},
   "source": [
    "# A Quick Introduction to Scheme\n",
    "\n",
    "### Function Definitions\n",
    "\n",
    "Let's define our first Scheme function.  The general syntax of a function definition is:\n",
    "\n",
    "<pre>\n",
    "<code>\n",
    "(<font color='green'>define</font> <i>function-name</i>\n",
    "  (<font color='green'>lambda</font> (<i>parameter1 parameter2</i> ...)\n",
    "     <i>body</i>))\n",
    "</code>\n",
    "</pre>\n",
    "\n",
    "Note carefully the parentheses, which are part of the syntax of all Scheme programs.  The symbols <font color='green'><tt>define</tt></font> and <font color='green'><tt>lambda</tt></font> are special symbols used in defining functions.  The other symbols written in <i><tt>italics</tt></i> represent parts of the definition that get filled in according to the specific details of the function being defined.  For example, let's define a function for squaring numbers, which we'll call <tt>square</tt>.  This function will take a single number as input, calculate its square by multiplying the input with itself, and then return the answer.  The full definition is shown below.  You'll notice that Scheme uses the symbol <tt>\\*</tt> to represent multiplication.  Comparing this to the template above, you can see that <i>function-name</i> is the symbol <tt>square</tt>, <i>parameter1</i> is the symbol <tt>n</tt> (there is just one parameter in this definition), and the function's <i>body</i> expression is <tt>(* n n)</tt>."
   ]
  },
  {
   "cell_type": "code",
   "execution_count": null,
   "metadata": {},
   "outputs": [],
   "source": [
    "(define square\n",
    "  (lambda (n)\n",
    "    (* n n)))"
   ]
  },
  {
   "cell_type": "markdown",
   "metadata": {},
   "source": [
    "Let's test this function on a few numbers, to see it in action.  To call a Scheme function on some input, you write the name of the function followed immediately by the input values (separated by spaces), and surround everything with a single set of parentheses (which are required!), like this:"
   ]
  },
  {
   "cell_type": "code",
   "execution_count": null,
   "metadata": {},
   "outputs": [],
   "source": [
    "(square 3)"
   ]
  },
  {
   "cell_type": "code",
   "execution_count": null,
   "metadata": {},
   "outputs": [],
   "source": [
    "(square 5)"
   ]
  },
  {
   "cell_type": "markdown",
   "metadata": {},
   "source": [
    "For an example of a more complex function definition, which will illustrate the idea of nested Scheme expressions, let's use the good old quadratic formula from your high school math class:\n",
    "\n",
    "$\\dfrac{-b \\pm \\sqrt{b^2 - 4ac}}{2a}$\n",
    "\n",
    "How would we write this using Scheme syntax?  Let's take it one subexpression at a time.  As we've just seen, we could write $b^2$ as either <tt>(\\* b b)</tt> or <tt>(square b)</tt>, since we just defined the <tt>square</tt> function. Let's go with the <tt>(square b)</tt> option.  The multiplication expression $4ac$ can be written as <tt>(\\* 4 a c)</tt>.  To translate $b^2 - 4ac$ into Scheme syntax, we just combine the two smaller expressions into a bigger one using the same idea as before:\n",
    "\n",
    "<pre>\n",
    "(- (square b) (* 4 a c))\n",
    "</pre>\n",
    "\n",
    "What about the square root sign in the formula?  In Scheme, the square root function is called <tt>sqrt</tt>, so we just surround the above expression with a call to <tt>sqrt</tt>, using another set of parentheses, like this:\n",
    "\n",
    "<pre>\n",
    "(sqrt (- (square b) (* 4 a c)))\n",
    "</pre>\n",
    "\n",
    "The negation $-b$ can be written as <tt>(- b)</tt>.  What about the $\\pm$ sign?  This is mathematical shorthand that just means \"either $+$ or $-$ can be used here\".  In general, the formula will produce two different values (or \"roots\"), depending on the choice of $+$ or $-$.  If we choose $+$, our subexpression becomes:\n",
    "\n",
    "<pre>\n",
    "(+ (- b) (sqrt (- (square b) (* 4 a c))))\n",
    "</pre>\n",
    "\n",
    "Note carefully how all of the parentheses match up.  Finally, we need to divide this whole quantity by $2a$, using Scheme's division operator <tt>/</tt>.  As usual, we write the operator <tt>/</tt> followed immediately by the two values to be divided, surrounded by an additional set of parentheses:\n",
    "\n",
    "<pre>\n",
    "(/ (+ (- b) (sqrt (- (square b) (* 4 a c))))\n",
    "   (* 2 a))\n",
    "</pre>\n",
    "\n",
    "Here I've written the expression across two lines for readability, but Scheme itself doesn't care how we write expressions as long as the parentheses match up correctly.  We could just as well have written it like this:\n",
    "\n",
    "<pre>\n",
    "(/ (+ (- b)\n",
    "      (sqrt (- (square b)\n",
    "               (* 4 a c))))\n",
    "   (* 2 a))\n",
    "</pre>\n",
    "\n",
    "Now we are finally ready to define a new function called <tt>quadratic-root1</tt>, which will take three numbers as input (let's call them <i>a</i>, <i>b</i>, and <i>c</i>), and compute the first quadratic root (using $+$ in place of $\\pm$):"
   ]
  },
  {
   "cell_type": "code",
   "execution_count": null,
   "metadata": {},
   "outputs": [],
   "source": [
    "(define quadratic-root1\n",
    "  (lambda (a b c)\n",
    "    (/ (+ (- b) (sqrt (- (square b) (* 4 a c))))\n",
    "       (* 2 a))))"
   ]
  },
  {
   "cell_type": "code",
   "execution_count": null,
   "metadata": {},
   "outputs": [],
   "source": [
    "(quadratic-root1 1 4 3)"
   ]
  },
  {
   "cell_type": "code",
   "execution_count": null,
   "metadata": {},
   "outputs": [],
   "source": [
    "(quadratic-root1 2 -5 3)"
   ]
  },
  {
   "cell_type": "markdown",
   "metadata": {},
   "source": [
    "### Conditional Expressions\n",
    "\n",
    "Conditional expressions are used in Scheme for making decisions, similar to <tt>if</tt>-statements in other languages.  Here is the general syntax:\n",
    "\n",
    "<pre>\n",
    "(<font color='green'>cond</font>\n",
    "  (<i>condition</i> <i>consequent</i>)\n",
    "  (<font color='green'>else</font> <i>alternative</i>))\n",
    "</pre>\n",
    "\n",
    "The special keywords <font color='green'><tt>cond</tt></font> and <font color='green'><tt>else</tt></font> are required, and the italicized words stand for subexpressions that can be arbitrarily complicated.  The way a <tt>cond</tt> works is this: the <i>condition</i> subexpression gets evaluated first.  If the condition is true, then the <i>consequent</i> subexpression gets evaluated and the <i>alternative</i> subexpression gets ignored.  If the condition is false, the opposite happens.  <tt>Cond</tt> expressions are often used in function definitions to decide what to do in response to the input.\n",
    "\n",
    "As an example, suppose we wish to define a function called <tt>divide</tt> that acts like ordinary division, except that it checks to make sure the denominator is not zero.  If it does equal zero, then 0 is returned as the result instead of generating an error.  The definition is shown below.  In this case, the <i>condition</i> subexpression is <tt>(= denom 0)</tt>, the <i>consequent</i> subexpression is just <tt>0</tt> by itself, and the <i>alternative</i> subexpression is <tt>(/ numer denom)</tt>."
   ]
  },
  {
   "cell_type": "code",
   "execution_count": null,
   "metadata": {},
   "outputs": [],
   "source": [
    "(define divide\n",
    "  (lambda (numer denom)\n",
    "    (cond\n",
    "      ((= denom 0) 0)\n",
    "      (else (/ numer denom)))))"
   ]
  },
  {
   "cell_type": "code",
   "execution_count": null,
   "metadata": {},
   "outputs": [],
   "source": [
    "(divide 3 0)"
   ]
  },
  {
   "cell_type": "code",
   "execution_count": null,
   "metadata": {},
   "outputs": [],
   "source": [
    "(divide 10 2)"
   ]
  },
  {
   "cell_type": "markdown",
   "metadata": {},
   "source": [
    "### Symbolic Data\n",
    "\n",
    "In addition to numerical data, Scheme programs often process <i>symbols</i> or <i>lists</i> of symbols.  Symbolic data such as symbols and lists must always be <i>quoted</i>, otherwise Scheme will think that you're referring to functions.  For example, as we've seen, if you write <tt>(square 3)</tt>, Scheme will think you mean \"call the <tt>square</tt> function on the number 3 and return the result\".  But if you write <tt>(quote (square 3))</tt> instead, Scheme will treat <tt>(square 3)</tt> as a literal piece of data, and will not evaluate it."
   ]
  },
  {
   "cell_type": "code",
   "execution_count": null,
   "metadata": {},
   "outputs": [],
   "source": [
    "(quote (square 3))"
   ]
  },
  {
   "cell_type": "markdown",
   "metadata": {},
   "source": [
    "The same thing happens if we quote the expressions <tt>(+ 2 3)</tt> or <tt>(divide 10 2)</tt>.  Instead of executing them as function calls, Scheme will simply treat them as \"inert\" lists, each one consisting of a symbol followed by two numbers."
   ]
  },
  {
   "cell_type": "code",
   "execution_count": null,
   "metadata": {},
   "outputs": [],
   "source": [
    "(quote (+ 2 3))"
   ]
  },
  {
   "cell_type": "code",
   "execution_count": null,
   "metadata": {},
   "outputs": [],
   "source": [
    "(quote (divide 10 2))"
   ]
  },
  {
   "cell_type": "markdown",
   "metadata": {},
   "source": [
    "Quotation is a fundamental concept in Scheme, and is used so much that it has its own abbreviation:\n",
    "\n",
    "<pre>\n",
    "(quote <i>expression</i>)\n",
    "</pre>\n",
    "\n",
    "can be shortened to just\n",
    "\n",
    "<pre>\n",
    "'<i>expression</i>\n",
    "</pre>\n",
    "\n",
    "using a single apostrophe, where <i>expression</i> stands for any arbitrary Scheme expression.  For instance, the above two examples could be rewritten as:"
   ]
  },
  {
   "cell_type": "code",
   "execution_count": null,
   "metadata": {},
   "outputs": [],
   "source": [
    "'(+ 2 3)"
   ]
  },
  {
   "cell_type": "code",
   "execution_count": null,
   "metadata": {},
   "outputs": [],
   "source": [
    "'(divide 10 2)"
   ]
  },
  {
   "cell_type": "markdown",
   "metadata": {},
   "source": [
    "Note that quotation is very different from the concept of a string in other programming languages.  In Scheme, when you quote something with an apostrophe, you always use just a <i>single</i> apostrophe in front of an expression, even if the expression itself is a long list containing many symbols or other subexpressions.  As long as the list is properly parenthesized, the apostrophe will apply to the entire list.  For example:"
   ]
  },
  {
   "cell_type": "code",
   "execution_count": null,
   "metadata": {},
   "outputs": [],
   "source": [
    "(define sentence '(Sam loves green eggs and ham))"
   ]
  },
  {
   "cell_type": "markdown",
   "metadata": {},
   "source": [
    "Here we are defining <tt>sentence</tt> to be a <i>list</i> containing six symbols, rather than a function.  If we accidentally left off the quote mark, Scheme would think we were trying to apply the <tt>Sam</tt> function to the input values <tt>loves</tt>, <tt>green</tt>, <tt>eggs</tt>, etc., which makes no sense.\n",
    "\n",
    "What sort of things can we do with a list?  The three most basic list operations in Scheme are <tt>car</tt>, <tt>cdr</tt>, and <tt>cons</tt>.  <tt>Car</tt> returns the first element of a list.  <tt>Cdr</tt> (pronounced COULD-er) returns the list with the first element <i>removed</i>, and <tt>cons</tt> returns a new list with a new element added to the front.  However, in all three cases, the original list is unaffected.  Here are some examples:"
   ]
  },
  {
   "cell_type": "code",
   "execution_count": null,
   "metadata": {},
   "outputs": [],
   "source": [
    "sentence"
   ]
  },
  {
   "cell_type": "code",
   "execution_count": null,
   "metadata": {},
   "outputs": [],
   "source": [
    "(car sentence)"
   ]
  },
  {
   "cell_type": "code",
   "execution_count": null,
   "metadata": {},
   "outputs": [],
   "source": [
    "(cdr sentence)"
   ]
  },
  {
   "cell_type": "code",
   "execution_count": null,
   "metadata": {},
   "outputs": [],
   "source": [
    "(cons 'Big sentence)"
   ]
  },
  {
   "cell_type": "code",
   "execution_count": null,
   "metadata": {},
   "outputs": [],
   "source": [
    "sentence"
   ]
  },
  {
   "cell_type": "code",
   "execution_count": null,
   "metadata": {},
   "outputs": [],
   "source": [
    "(car (cdr sentence))"
   ]
  },
  {
   "cell_type": "code",
   "execution_count": null,
   "metadata": {},
   "outputs": [],
   "source": [
    "(cdr (cdr sentence))"
   ]
  },
  {
   "cell_type": "code",
   "execution_count": null,
   "metadata": {},
   "outputs": [],
   "source": [
    "(car (cdr (cdr sentence)))"
   ]
  },
  {
   "cell_type": "code",
   "execution_count": null,
   "metadata": {},
   "outputs": [],
   "source": [
    "(cons 'Sue (cdr sentence))"
   ]
  },
  {
   "cell_type": "code",
   "execution_count": null,
   "metadata": {},
   "outputs": [],
   "source": [
    "sentence"
   ]
  }
 ],
 "metadata": {
  "kernelspec": {
   "display_name": "Calysto Scheme 3",
   "language": "scheme",
   "name": "calysto_scheme"
  },
  "language_info": {
   "codemirror_mode": {
    "name": "scheme"
   },
   "mimetype": "text/x-scheme",
   "name": "scheme",
   "pygments_lexer": "scheme"
  }
 },
 "nbformat": 4,
 "nbformat_minor": 2
}
