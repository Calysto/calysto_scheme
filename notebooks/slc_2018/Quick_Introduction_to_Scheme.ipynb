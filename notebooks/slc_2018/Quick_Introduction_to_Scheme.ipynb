{
 "cells": [
  {
   "cell_type": "markdown",
   "metadata": {},
   "source": [
    "# A Quick Introduction to Scheme\n",
    "\n",
    "### Function Definitions\n",
    "\n",
    "Let's define our first Scheme function.  The general syntax of a function definition is:\n",
    "\n",
    "```scheme\n",
    "(define FUNCTION-NAME\n",
    "  (lambda (PARAMETER1 PARAMETER2 ...)\n",
    "    BODY))\n",
    "```\n",
    "\n",
    "Note carefully the parentheses, which are part of the syntax of all Scheme programs.  The symbols <font color='green'><tt>define</tt></font> and <font color='green'><tt>lambda</tt></font> are special symbols used in defining functions.  The other symbols written in UPPERCASE represent parts of the definition that get filled in according to the specific details of the function being defined.  For example, let's define a function for squaring numbers, which we'll call <tt>square</tt>.  This function will take a single number as input, compute its square by multiplying the input with itself, and then return the answer.  The full definition is shown below.  You'll notice that Scheme uses the symbol <tt>\\*</tt> to represent the multiplication operator, and that the operator goes first in an expression (this is known as <i>prefix</i> notation).  Comparing the definition to the template above, you can see that FUNCTION-NAME is the symbol <tt>square</tt>, PARAMETER1 is the symbol <tt>n</tt> (there are no other parameters), and the function's BODY expression is <tt>(* n n)</tt>.  Furthermore, there's nothing special about <tt>n</tt>.  We could have chosen any other name for our parameter."
   ]
  },
  {
   "cell_type": "code",
   "execution_count": null,
   "metadata": {},
   "outputs": [],
   "source": [
    "(define square\n",
    "  (lambda (n)\n",
    "    (* n n)))"
   ]
  },
  {
   "cell_type": "markdown",
   "metadata": {},
   "source": [
    "Let's test this function on a few numbers, to see it in action.  To call a Scheme function on some input, you write the name of the function first, followed immediately by the input values (separated by spaces), and surround everything with a single set of parentheses (which are required!), like this:"
   ]
  },
  {
   "cell_type": "code",
   "execution_count": null,
   "metadata": {},
   "outputs": [],
   "source": [
    "(square 3)"
   ]
  },
  {
   "cell_type": "code",
   "execution_count": null,
   "metadata": {},
   "outputs": [],
   "source": [
    "(square 5)"
   ]
  },
  {
   "cell_type": "code",
   "execution_count": null,
   "metadata": {},
   "outputs": [],
   "source": [
    "(+ 3 4)"
   ]
  },
  {
   "cell_type": "markdown",
   "metadata": {},
   "source": [
    "For an example of a more complex function definition, which will illustrate the idea of nested Scheme expressions, let's use the good old quadratic formula from your high school math class:\n",
    "\n",
    "$\\dfrac{-b \\pm \\sqrt{b^2 - 4ac}}{2a}$\n",
    "\n",
    "How would we write this using Scheme syntax?  Let's take it one piece at a time.  As we've already seen, we could write $b^2$ as either <tt>(\\* b b)</tt> or <tt>(square b)</tt>, since we just defined the <tt>square</tt> function. Let's go with the <tt>(square b)</tt> option, just for fun.  The multiplication expression $4ac$ can be written as <tt>(\\* 4 a c)</tt>.  To translate $b^2 - 4ac$ into Scheme syntax, we combine the two smaller expressions into a bigger one with the <tt>-</tt> operator in front:\n",
    "\n",
    "<pre>\n",
    "(- (square b) (* 4 a c))\n",
    "</pre>\n",
    "\n",
    "What about the square root sign in the formula?  In Scheme, the square root function is called <tt>sqrt</tt>, so we just surround the above expression with a call to <tt>sqrt</tt>, using another set of parentheses, like this:\n",
    "\n",
    "<pre>\n",
    "(sqrt (- (square b) (* 4 a c)))\n",
    "</pre>\n",
    "\n",
    "The negation $-b$ can be written as <tt>(- b)</tt>, with a space between <tt>-</tt> and <tt>b</tt>.  What about the $\\pm$ sign?  This is mathematical shorthand that just means \"either $+$ or $-$ can be used here\".  In general, the formula will produce two different values (or \"roots\"), depending on the choice of $+$ or $-$.  If we choose $+$, our expression becomes:\n",
    "\n",
    "<pre>\n",
    "(+ (- b) (sqrt (- (square b) (* 4 a c))))\n",
    "</pre>\n",
    "\n",
    "Note carefully how all of the parentheses match up.  Finally, we need to divide this whole quantity by $2a$, using Scheme's division operator <tt>/</tt>.  As usual, we write the operator first, followed immediately by the two subexpressions to be divided, surrounded by an additional set of parentheses:\n",
    "\n",
    "<pre>\n",
    "(/ (+ (- b) (sqrt (- (square b) (* 4 a c))))\n",
    "   (* 2 a))\n",
    "</pre>\n",
    "\n",
    "Here I've written the expression across two lines for better readability, but Scheme doesn't really care how we write expressions as long as the parentheses match up correctly.  We could just as well have written it like this:\n",
    "\n",
    "<pre>\n",
    "(/ (+ (- b)\n",
    "      (sqrt (- (square b)\n",
    "               (* 4 a c))))\n",
    "   (* 2 a))\n",
    "</pre>\n",
    "\n",
    "Now we are finally ready to define a new function called <tt>quadratic-root1</tt>, which will take three numbers as input (let's call them <i>a</i>, <i>b</i>, and <i>c</i>), and compute the first quadratic root (using $+$ in place of $\\pm$):"
   ]
  },
  {
   "cell_type": "code",
   "execution_count": null,
   "metadata": {},
   "outputs": [],
   "source": [
    "(define quadratic-root1\n",
    "  (lambda (a b c)\n",
    "    (/ (+ (- b) (sqrt (- (square b) (* 4 a c))))\n",
    "       (* 2 a))))"
   ]
  },
  {
   "cell_type": "code",
   "execution_count": null,
   "metadata": {},
   "outputs": [],
   "source": [
    "(quadratic-root1 1 4 3)"
   ]
  },
  {
   "cell_type": "code",
   "execution_count": null,
   "metadata": {},
   "outputs": [],
   "source": [
    "(quadratic-root1 2 -5 3)"
   ]
  },
  {
   "cell_type": "markdown",
   "metadata": {},
   "source": [
    "### Conditional Expressions\n",
    "\n",
    "Conditional expressions are used in Scheme for making decisions, similar to if-statements in other languages.  Here is the general syntax:\n",
    "\n",
    "```scheme\n",
    "(cond\n",
    "  (CONDITION CONSEQUENT)\n",
    "  (else ALTERNATIVE))\n",
    "```\n",
    "\n",
    "The special keywords <font color='green'><tt>cond</tt></font> and <font color='green'><tt>else</tt></font> are required, and the UPPERCASE words stand for subexpressions that can be arbitrarily complicated.  The way a <tt>cond</tt> works is this: the CONDITION subexpression gets evaluated first.  If the condition is true, then the CONSEQUENT subexpression gets evaluated and the ALTERNATIVE subexpression is ignored.  If the condition is false, the opposite happens: the CONSEQUENT subexpression is ignored and the ALTERNATIVE subexpression gets evaluated instead.  <tt>Cond</tt> expressions are often used in function definitions to decide what to do in response to the input.\n",
    "\n",
    "As an example, suppose we wish to define a function called <tt>divide</tt> that acts like ordinary division, except that it checks to make sure the denominator is not zero.  If it does equal zero, then 0 is returned as the result instead of generating an error.  The definition is shown below.  In this case, the CONDITION subexpression is <tt>(= denom 0)</tt>, the CONSEQUENT subexpression is just <tt>0</tt> by itself, and the ALTERNATIVE subexpression is <tt>(/ numer denom)</tt>."
   ]
  },
  {
   "cell_type": "code",
   "execution_count": null,
   "metadata": {},
   "outputs": [],
   "source": [
    "(define divide\n",
    "  (lambda (numer denom)\n",
    "    (cond\n",
    "      ((= denom 0) 0)\n",
    "      (else (/ numer denom)))))"
   ]
  },
  {
   "cell_type": "code",
   "execution_count": null,
   "metadata": {},
   "outputs": [],
   "source": [
    "(divide 3 0)"
   ]
  },
  {
   "cell_type": "code",
   "execution_count": null,
   "metadata": {},
   "outputs": [],
   "source": [
    "(divide 10 2)"
   ]
  },
  {
   "cell_type": "markdown",
   "metadata": {},
   "source": [
    "In general, the CONDITION subexpression of a <tt>cond</tt> should evaluate to <i>true</i> or <i>false</i> (that is, it should be a <i>boolean</i> expression).  In Scheme, the boolean values <i>true</i> and <i>false</i> are written as <tt>#t</tt> and <tt>#f</tt>, respectively.  Furthermore, the usual boolean operators are available for comparing numbers: <tt>=</tt>, <tt>&gt;</tt>, <tt>&gt;=</tt>, <tt>&lt;</tt>, <tt>&lt;=</tt>.  The <tt>not</tt> function is used for negation.  Here are some examples:"
   ]
  },
  {
   "cell_type": "code",
   "execution_count": null,
   "metadata": {},
   "outputs": [],
   "source": [
    "(= 2 3)"
   ]
  },
  {
   "cell_type": "code",
   "execution_count": null,
   "metadata": {},
   "outputs": [],
   "source": [
    "(< 2 3)"
   ]
  },
  {
   "cell_type": "code",
   "execution_count": null,
   "metadata": {},
   "outputs": [],
   "source": [
    "(= (+ 2 2) 5)"
   ]
  },
  {
   "cell_type": "code",
   "execution_count": null,
   "metadata": {},
   "outputs": [],
   "source": [
    "(not (= (+ 2 2) 5))"
   ]
  },
  {
   "cell_type": "markdown",
   "metadata": {},
   "source": [
    "### Symbolic Data\n",
    "\n",
    "In addition to numerical data, Scheme programs often process <i>symbols</i> or <i>lists</i> of symbols.  Symbolic data must always be <i>quoted</i>, otherwise Scheme will probably think that you're referring to functions.  For example, as we've seen, if you write <tt>(square 3)</tt>, Scheme will think you mean \"call the <tt>square</tt> function on the number 3 and return the result\".  But if you write <tt>(quote (square 3))</tt> instead, Scheme will treat <tt>(square 3)</tt> as a literal piece of data, and will not evaluate it."
   ]
  },
  {
   "cell_type": "code",
   "execution_count": null,
   "metadata": {},
   "outputs": [],
   "source": [
    "(quote (square 3))"
   ]
  },
  {
   "cell_type": "markdown",
   "metadata": {},
   "source": [
    "The same thing happens if we quote the expressions <tt>(+ 3 4)</tt> or <tt>(divide 10 2)</tt>.  Instead of executing them as function calls, Scheme will simply treat them as \"inert\" lists, each one consisting of a symbol followed by two numbers."
   ]
  },
  {
   "cell_type": "code",
   "execution_count": null,
   "metadata": {},
   "outputs": [],
   "source": [
    "(quote (+ 3 4))"
   ]
  },
  {
   "cell_type": "code",
   "execution_count": null,
   "metadata": {},
   "outputs": [],
   "source": [
    "(quote (divide 10 2))"
   ]
  },
  {
   "cell_type": "markdown",
   "metadata": {},
   "source": [
    "Quotation is a fundamental concept in Scheme, and is used so much that it has its own abbreviation:\n",
    "\n",
    "<pre>\n",
    "(quote <i>expression</i>)\n",
    "</pre>\n",
    "\n",
    "can be shortened to just\n",
    "\n",
    "<pre>\n",
    "'<i>expression</i>\n",
    "</pre>\n",
    "\n",
    "using a single apostrophe, where <i>expression</i> stands for any arbitrary Scheme expression.  For instance, the previous two examples could be rewritten as:"
   ]
  },
  {
   "cell_type": "code",
   "execution_count": null,
   "metadata": {},
   "outputs": [],
   "source": [
    "'(+ 3 4)"
   ]
  },
  {
   "cell_type": "code",
   "execution_count": null,
   "metadata": {},
   "outputs": [],
   "source": [
    "'(divide 10 2)"
   ]
  },
  {
   "cell_type": "markdown",
   "metadata": {},
   "source": [
    "Note that quotation is very different from the concept of a string in other programming languages.  In Scheme, when you quote something with an apostrophe, you always use just a <i>single</i> apostrophe in front of an expression, even if the expression itself is a long list containing many symbols or other subexpressions.  As long as the list is properly parenthesized, the apostrophe will apply to the entire list.  For example:"
   ]
  },
  {
   "cell_type": "code",
   "execution_count": null,
   "metadata": {},
   "outputs": [],
   "source": [
    "(define sentence '(Sam loves green eggs and ham))"
   ]
  },
  {
   "cell_type": "markdown",
   "metadata": {},
   "source": [
    "Here we are defining <tt>sentence</tt> to be a <i>list</i> containing six symbols, rather than a function.  If we accidentally left off the quote mark, Scheme would think we were trying to apply the <tt>Sam</tt> function to the input values <tt>loves</tt>, <tt>green</tt>, <tt>eggs</tt>, etc., which makes no sense and would generate an error.\n",
    "\n",
    "What sort of things can we do with a list?  The three most basic list operations in Scheme are <tt>car</tt>, <tt>cdr</tt>, and <tt>cons</tt>.  <tt>Car</tt> returns the first element of a list.  <tt>Cdr</tt> (pronounced COULD-er) returns the list with the first element <i>removed</i>, and <tt>cons</tt> returns a new list with a new element added to the front.  However, in all three cases, the original list is unaffected.  Here are some examples:"
   ]
  },
  {
   "cell_type": "code",
   "execution_count": null,
   "metadata": {},
   "outputs": [],
   "source": [
    "sentence"
   ]
  },
  {
   "cell_type": "code",
   "execution_count": null,
   "metadata": {},
   "outputs": [],
   "source": [
    "(car sentence)"
   ]
  },
  {
   "cell_type": "code",
   "execution_count": null,
   "metadata": {},
   "outputs": [],
   "source": [
    "(cdr sentence)"
   ]
  },
  {
   "cell_type": "code",
   "execution_count": null,
   "metadata": {},
   "outputs": [],
   "source": [
    "(cons 'Big sentence)"
   ]
  },
  {
   "cell_type": "code",
   "execution_count": null,
   "metadata": {},
   "outputs": [],
   "source": [
    "sentence"
   ]
  },
  {
   "cell_type": "code",
   "execution_count": null,
   "metadata": {},
   "outputs": [],
   "source": [
    "(car (cdr sentence))"
   ]
  },
  {
   "cell_type": "code",
   "execution_count": null,
   "metadata": {},
   "outputs": [],
   "source": [
    "(cdr (cdr sentence))"
   ]
  },
  {
   "cell_type": "code",
   "execution_count": null,
   "metadata": {},
   "outputs": [],
   "source": [
    "(car (cdr (cdr sentence)))"
   ]
  },
  {
   "cell_type": "code",
   "execution_count": null,
   "metadata": {},
   "outputs": [],
   "source": [
    "(cons 'Sue (cdr sentence))"
   ]
  },
  {
   "cell_type": "code",
   "execution_count": null,
   "metadata": {},
   "outputs": [],
   "source": [
    "(cons 'blue (cdr (cdr (cdr sentence))))"
   ]
  },
  {
   "cell_type": "code",
   "execution_count": null,
   "metadata": {},
   "outputs": [],
   "source": [
    "sentence"
   ]
  },
  {
   "cell_type": "markdown",
   "metadata": {},
   "source": [
    "You can use the <tt>equal?</tt> function to compare two pieces of symbolic data for equality.  By the way, there's nothing special about the <tt>?</tt> character in the function name.  It is treated just like any other character in Scheme.  However, by convention it is often used in the names of boolean functions as a visual reminder that the function returns true or false.  Here are some examples of comparing symbolic data (warning: the last few are a little tricky):"
   ]
  },
  {
   "cell_type": "code",
   "execution_count": null,
   "metadata": {},
   "outputs": [],
   "source": [
    "(equal? 'green 'eggs)"
   ]
  },
  {
   "cell_type": "code",
   "execution_count": null,
   "metadata": {},
   "outputs": [],
   "source": [
    "(equal? 'green 'green)"
   ]
  },
  {
   "cell_type": "code",
   "execution_count": null,
   "metadata": {},
   "outputs": [],
   "source": [
    "(equal? '(green eggs) '(green eggs))"
   ]
  },
  {
   "cell_type": "code",
   "execution_count": null,
   "metadata": {},
   "outputs": [],
   "source": [
    "(equal? '(green eggs and ham) '(green eggs and spam))"
   ]
  },
  {
   "cell_type": "code",
   "execution_count": null,
   "metadata": {},
   "outputs": [],
   "source": [
    "(equal? (car sentence) 'Sam)"
   ]
  },
  {
   "cell_type": "code",
   "execution_count": null,
   "metadata": {},
   "outputs": [],
   "source": [
    "(equal? (car sentence) '(car sentence))"
   ]
  },
  {
   "cell_type": "code",
   "execution_count": null,
   "metadata": {},
   "outputs": [],
   "source": [
    "(equal? 'sentence sentence)"
   ]
  },
  {
   "cell_type": "code",
   "execution_count": null,
   "metadata": {},
   "outputs": [],
   "source": [
    "(equal? 'sentence (quote sentence))"
   ]
  },
  {
   "cell_type": "code",
   "execution_count": null,
   "metadata": {},
   "outputs": [],
   "source": [
    "(equal? 'sentence '(quote sentence))"
   ]
  },
  {
   "cell_type": "markdown",
   "metadata": {},
   "source": [
    "Just so you know, there is also a \"special purpose\" version of <tt>equal?</tt> that you may occasionally encounter, called <tt>eq?</tt>, that is only used for comparing symbols.  __You should never use <tt>eq?</tt> to compare lists to lists, or numbers to numbers__, because the results may be unreliable (see the examples below).  In fact, to avoid potential confusion, it may be best to just forget about <tt>eq?</tt> entirely and always use <tt>equal?</tt> to compare symbolic data."
   ]
  },
  {
   "cell_type": "code",
   "execution_count": null,
   "metadata": {},
   "outputs": [],
   "source": [
    "(eq? 'green 'eggs)"
   ]
  },
  {
   "cell_type": "code",
   "execution_count": null,
   "metadata": {},
   "outputs": [],
   "source": [
    "(eq? 'green 'green)"
   ]
  },
  {
   "cell_type": "code",
   "execution_count": null,
   "metadata": {},
   "outputs": [],
   "source": [
    "(eq? '(green eggs) '(green eggs))"
   ]
  },
  {
   "cell_type": "code",
   "execution_count": null,
   "metadata": {},
   "outputs": [],
   "source": [
    "(= (/ 3 2) 1.5)"
   ]
  },
  {
   "cell_type": "code",
   "execution_count": null,
   "metadata": {},
   "outputs": [],
   "source": [
    "(eq? (/ 3 2) 1.5)"
   ]
  },
  {
   "cell_type": "markdown",
   "metadata": {},
   "source": [
    "Finally, the special value <tt>()</tt> is called the <i>empty list</i> or <i>null list</i>.  This is simply a list that contains no elements.  The function <tt>null?</tt> can be used to check if a list is empty.  Remember, however, that you need to quote <tt>()</tt> when referring to it directly, since it is a literal piece of data.  Here are some examples:"
   ]
  },
  {
   "cell_type": "code",
   "execution_count": null,
   "metadata": {},
   "outputs": [],
   "source": [
    "'()"
   ]
  },
  {
   "cell_type": "code",
   "execution_count": null,
   "metadata": {},
   "outputs": [],
   "source": [
    "(cons 'eggs '())"
   ]
  },
  {
   "cell_type": "code",
   "execution_count": null,
   "metadata": {},
   "outputs": [],
   "source": [
    "(cons 'green (cons 'eggs '()))"
   ]
  },
  {
   "cell_type": "code",
   "execution_count": null,
   "metadata": {},
   "outputs": [],
   "source": [
    "(cdr (cdr '(green eggs)))"
   ]
  },
  {
   "cell_type": "code",
   "execution_count": null,
   "metadata": {},
   "outputs": [],
   "source": [
    "(null? '())"
   ]
  },
  {
   "cell_type": "code",
   "execution_count": null,
   "metadata": {},
   "outputs": [],
   "source": [
    "(null? (cdr (cdr '(green eggs))))"
   ]
  },
  {
   "cell_type": "code",
   "execution_count": null,
   "metadata": {},
   "outputs": [],
   "source": [
    "(cond\n",
    " ((null? sentence) 'yes)\n",
    " (else 'no))"
   ]
  },
  {
   "cell_type": "markdown",
   "metadata": {},
   "source": [
    "### Conditional Expressions, Revisited\n",
    "\n",
    "Let's return to the syntax given earlier for <tt>cond</tt> expressions:\n",
    "\n",
    "```scheme\n",
    "(cond\n",
    "  (CONDITION CONSEQUENT)\n",
    "  (else ALTERNATIVE))\n",
    "```\n",
    "\n",
    "This is fine when you just need to ask a single \"question\" (represented by the CONDITION subexpression) and then return either the CONSEQUENT or ALTERNATIVE value, depending on the answer.  But what if you need to ask several questions?  As it turns out, <tt>cond</tt> expressions can include as many <i>clauses</i> of the form <tt>(CONDITION CONSEQUENT)</tt> as you like.  A more accurate description of the syntax would be:\n",
    "\n",
    "```scheme\n",
    "(cond\n",
    "  (CONDITION1 CONSEQUENT1)\n",
    "  (CONDITION2 CONSEQUENT2)\n",
    "  (CONDITION3 CONSEQUENT3)\n",
    "  ...\n",
    "  (else ALTERNATIVE))\n",
    "```\n",
    "\n",
    "The CONDITION subexpressions are evaluated <i>in order</i> until one is found to be true, at which point the  CONSEQUENT subexpression associated with the true condition is evaluated.  The resulting value becomes the value returned by the whole <tt>cond</tt> expression, and any remaining clauses are ignored.  Only if <i>all</i> of the CONDITION subexpressions turn out to be false does ALTERNATIVE get evaluated and its value returned.\n",
    "\n",
    "For example, here is a function that takes a \"sentence\" as input (represented as a list of symbols called <tt>wordlist</tt>) and returns a short message describing the number of words in the sentence.  If the sentence is empty, the function outputs <tt>(no words)</tt>.  If the sentence contains exactly one word, the output is <tt>(just one word)</tt>.  With two words, the output is <tt>(two words)</tt>.  Otherwise the output is <tt>(more than two words)</tt>.  Although this isn't a particularly useful function, it illustrates the use of a multi-branch conditional, and shows one way to determine the number of elements in a list (at least up to a point) using <tt>null?</tt> in conjunction with <tt>cdr</tt>."
   ]
  },
  {
   "cell_type": "code",
   "execution_count": null,
   "metadata": {},
   "outputs": [],
   "source": [
    "(define count-words\n",
    "  (lambda (wordlist)\n",
    "    (cond\n",
    "     ((null? wordlist) '(no words))\n",
    "     ((null? (cdr wordlist)) '(just one word))\n",
    "     ((null? (cdr (cdr wordlist))) '(two words))\n",
    "     (else '(more than two words)))))"
   ]
  },
  {
   "cell_type": "code",
   "execution_count": null,
   "metadata": {},
   "outputs": [],
   "source": [
    "(count-words '())"
   ]
  },
  {
   "cell_type": "code",
   "execution_count": null,
   "metadata": {},
   "outputs": [],
   "source": [
    "(count-words '(spam))"
   ]
  },
  {
   "cell_type": "code",
   "execution_count": null,
   "metadata": {},
   "outputs": [],
   "source": [
    "(count-words '(green eggs))"
   ]
  },
  {
   "cell_type": "code",
   "execution_count": null,
   "metadata": {},
   "outputs": [],
   "source": [
    "(count-words '(green eggs and ham))"
   ]
  },
  {
   "cell_type": "code",
   "execution_count": null,
   "metadata": {},
   "outputs": [],
   "source": [
    "sentence"
   ]
  },
  {
   "cell_type": "code",
   "execution_count": null,
   "metadata": {},
   "outputs": [],
   "source": [
    "(count-words sentence)"
   ]
  }
 ],
 "metadata": {
  "kernelspec": {
   "display_name": "Calysto Scheme 3",
   "language": "scheme",
   "name": "calysto_scheme"
  },
  "language_info": {
   "codemirror_mode": {
    "name": "scheme"
   },
   "mimetype": "text/x-scheme",
   "name": "scheme",
   "pygments_lexer": "scheme"
  }
 },
 "nbformat": 4,
 "nbformat_minor": 2
}
