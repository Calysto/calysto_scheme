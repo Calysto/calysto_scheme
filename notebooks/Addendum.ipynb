{
 "cells": [
  {
   "cell_type": "markdown",
   "metadata": {},
   "source": [
    "# Addendum\n",
    "\n",
    "Additional commands"
   ]
  },
  {
   "cell_type": "code",
   "execution_count": 1,
   "metadata": {},
   "outputs": [
    {
     "data": {
      "text/plain": [
       "#&a"
      ]
     },
     "execution_count": 1,
     "metadata": {},
     "output_type": "execute_result"
    }
   ],
   "source": [
    "(box 'a)"
   ]
  },
  {
   "cell_type": "code",
   "execution_count": 2,
   "metadata": {},
   "outputs": [
    {
     "data": {
      "text/plain": [
       "a"
      ]
     },
     "execution_count": 2,
     "metadata": {},
     "output_type": "execute_result"
    }
   ],
   "source": [
    "(unbox (box 'a))"
   ]
  },
  {
   "cell_type": "code",
   "execution_count": 3,
   "metadata": {},
   "outputs": [
    {
     "data": {
      "text/plain": [
       "#t"
      ]
     },
     "execution_count": 3,
     "metadata": {},
     "output_type": "execute_result"
    }
   ],
   "source": [
    "(box? (box 'a))"
   ]
  },
  {
   "cell_type": "code",
   "execution_count": 4,
   "metadata": {},
   "outputs": [
    {
     "data": {
      "text/plain": [
       "0.4578742002644849"
      ]
     },
     "execution_count": 4,
     "metadata": {},
     "output_type": "execute_result"
    }
   ],
   "source": [
    "(random 1.0)"
   ]
  },
  {
   "cell_type": "code",
   "execution_count": 8,
   "metadata": {},
   "outputs": [
    {
     "data": {
      "text/plain": [
       "0"
      ]
     },
     "execution_count": 8,
     "metadata": {},
     "output_type": "execute_result"
    }
   ],
   "source": [
    "(random 2) ;; 0 or 1"
   ]
  },
  {
   "cell_type": "code",
   "execution_count": 9,
   "metadata": {},
   "outputs": [
    {
     "data": {
      "text/plain": [
       "3"
      ]
     },
     "execution_count": 9,
     "metadata": {},
     "output_type": "execute_result"
    }
   ],
   "source": [
    "(int 3.1415)"
   ]
  },
  {
   "cell_type": "code",
   "execution_count": 10,
   "metadata": {},
   "outputs": [
    {
     "data": {
      "text/plain": [
       "(\"a\" \"b\" \"z\")"
      ]
     },
     "execution_count": 10,
     "metadata": {},
     "output_type": "execute_result"
    }
   ],
   "source": [
    "(sort string<? '(\"z\" \"a\" \"b\"))"
   ]
  },
  {
   "cell_type": "code",
   "execution_count": 11,
   "metadata": {},
   "outputs": [
    {
     "data": {
      "text/plain": [
       "(% * + - / // < <= = > >= SCHEMEPATH abort abs and append apply assert assq assv atom? boolean? box box? caaaar caaadr caaar caadar caaddr caadr caar cadaar cadadr cadar caddar cadddr caddr cadr call-with-current-continuation call/cc car case cases cd cdaaar cdaadr cdaar cdadar cdaddr cdadr cdar cddaar cddadr cddar cdddar cddddr cdddr cddr cdr char->integer char->string char-alphabetic? char-numeric? char-whitespace? char=? char? clear-unit-tests cond cons current-directory current-environment current-time cut define-datatype dict dir display div eq? equal? eqv? error eval eval-ast even? exit expt float for-each format get get-completions get-stack-trace get-item globals has-item? host-environment import import-as import-from int integer->char iter? lambda length let let* letrec list list->string list->vector list-ref list? load load-as macros make-set make-vector map max member memq memv min mod modulo newline not null? number->string number? odd? or pair? parse parse-string print printf procedure? property python-eval python-exec quit quotient rac random range rational rdc read-string record-case remainder require reset-toplevel-env reverse round set-car! set-cdr! set-item! snoc sort sqrt string string->list string->number string->symbol string-append string-join string-length string-ref string-split string<? string=? string? substring symbol->string symbol? trace-lambda typeof unbox unparse unparse-procedure use-lexical-address use-stack-trace use-tracing vector vector->list vector-length vector-ref vector-set! vector? void zero? λ)"
      ]
     },
     "execution_count": 11,
     "metadata": {},
     "output_type": "execute_result"
    }
   ],
   "source": [
    "(get-completions)"
   ]
  },
  {
   "cell_type": "code",
   "execution_count": 13,
   "metadata": {},
   "outputs": [
    {
     "data": {
      "text/plain": [
       "ok"
      ]
     },
     "execution_count": 13,
     "metadata": {},
     "output_type": "execute_result"
    }
   ],
   "source": [
    "(assert = 1 1)"
   ]
  },
  {
   "cell_type": "code",
   "execution_count": 14,
   "metadata": {},
   "outputs": [
    {
     "name": "stderr",
     "output_type": "stream",
     "text": [
      "\u001b[0;31m\n",
      "Traceback (most recent call last):\n",
      "  File \"In [14]\", line 1, col 1, in 'assert'\n",
      "  File \"In [14]\", line 1, col 1\n",
      "AssertionError: \n",
      "\n",
      "\u001b[0m"
     ]
    }
   ],
   "source": [
    "(assert = 1 2)"
   ]
  },
  {
   "cell_type": "code",
   "execution_count": 15,
   "metadata": {},
   "outputs": [
    {
     "name": "stderr",
     "output_type": "stream",
     "text": [
      "\u001b[0;31m\n",
      "Traceback (most recent call last):\n",
      "  File \"In [15]\", line 1, col 1, in 'assert'\n",
      "  File \"In [15]\", line 1, col 1\n",
      "AssertionError: message\n",
      "\n",
      "\u001b[0m"
     ]
    }
   ],
   "source": [
    "(assert = 1 2 \"message\")"
   ]
  },
  {
   "cell_type": "code",
   "execution_count": 20,
   "metadata": {},
   "outputs": [],
   "source": [
    "(clear-unit-tests)"
   ]
  },
  {
   "cell_type": "code",
   "execution_count": 21,
   "metadata": {},
   "outputs": [],
   "source": [
    "(define-tests my-name\n",
    "  (assert = 1 1 \"name 1\")\n",
    "  (assert = 1 2 \"name 2\")\n",
    "  (assert = 1 3 \"case 1\")\n",
    "  (assert = 1 4 \"case 2\")\n",
    "              )"
   ]
  },
  {
   "cell_type": "code",
   "execution_count": 22,
   "metadata": {},
   "outputs": [
    {
     "name": "stdout",
     "output_type": "stream",
     "text": [
      "Testing group 'my-name'...\n",
      "  Error: my-name \"name 2\" at line 3, column 3 of In [21]\n",
      "  Error: my-name \"case 1\" at line 4, column 3 of In [21]\n",
      "  Error: my-name \"case 2\" at line 5, column 3 of In [21]\n",
      "=================\n",
      "Testing completed!\n",
      "  Time : 0.02 seconds\n",
      "  Total tests defined: 4 \n",
      "  Total tests tested : 4 \n",
      "                Right: 4 \n",
      "                Wrong: 0 \n"
     ]
    }
   ],
   "source": [
    "(run-tests my-name)"
   ]
  },
  {
   "cell_type": "code",
   "execution_count": 23,
   "metadata": {},
   "outputs": [
    {
     "name": "stdout",
     "output_type": "stream",
     "text": [
      "Testing group 'my-name'...\n",
      "  Error: my-name \"name 2\" at line 3, column 3 of In [21]\n",
      "\n",
      "Traceback (most recent call last):\n",
      "  File \"In [21]\", line 3, col 3, in 'assert'\n",
      "  File \"In [21]\", line 3, col 3\n",
      "AssertionError: name 2\n",
      "\n",
      "  Procedure: =\n",
      "           : 1\n",
      "           : 2\n",
      "=================\n",
      "Testing completed!\n",
      "  Time : 0.01 seconds\n",
      "  Total tests defined: 4 \n",
      "  Total tests tested : 2 \n",
      "                Right: 2 \n",
      "                Wrong: 0 \n"
     ]
    }
   ],
   "source": [
    "(run-tests my-name \"name\")"
   ]
  },
  {
   "cell_type": "code",
   "execution_count": 24,
   "metadata": {},
   "outputs": [
    {
     "name": "stdout",
     "output_type": "stream",
     "text": [
      "Testing group 'my-name'...\n",
      "  Error: my-name \"case 1\" at line 4, column 3 of In [21]\n",
      "\n",
      "Traceback (most recent call last):\n",
      "  File \"In [21]\", line 4, col 3, in 'assert'\n",
      "  File \"In [21]\", line 4, col 3\n",
      "AssertionError: case 1\n",
      "\n",
      "  Procedure: =\n",
      "           : 1\n",
      "           : 3\n",
      "=================\n",
      "Testing completed!\n",
      "  Time : 0.03 seconds\n",
      "  Total tests defined: 4 \n",
      "  Total tests tested : 1 \n",
      "                Right: 1 \n",
      "                Wrong: 0 \n"
     ]
    }
   ],
   "source": [
    "(run-tests my-name 1)"
   ]
  },
  {
   "cell_type": "code",
   "execution_count": 25,
   "metadata": {},
   "outputs": [
    {
     "data": {
      "text/plain": [
       "\"/home/dblank\""
      ]
     },
     "execution_count": 25,
     "metadata": {},
     "output_type": "execute_result"
    }
   ],
   "source": [
    "(cd \"~/\") ;; expands ~ to home"
   ]
  },
  {
   "cell_type": "code",
   "execution_count": 26,
   "metadata": {},
   "outputs": [
    {
     "data": {
      "text/plain": [
       "\"python\""
      ]
     },
     "execution_count": 26,
     "metadata": {},
     "output_type": "execute_result"
    }
   ],
   "source": [
    "(host-environment)"
   ]
  },
  {
   "cell_type": "code",
   "execution_count": 30,
   "metadata": {},
   "outputs": [
    {
     "data": {
      "text/plain": [
       "{a: 1, b: 2}"
      ]
     },
     "execution_count": 30,
     "metadata": {},
     "output_type": "execute_result"
    }
   ],
   "source": [
    "(define d (dict '((a : 1)(b : 2))))\n",
    "d"
   ]
  },
  {
   "cell_type": "code",
   "execution_count": 31,
   "metadata": {},
   "outputs": [
    {
     "data": {
      "text/plain": [
       "#t"
      ]
     },
     "execution_count": 31,
     "metadata": {},
     "output_type": "execute_result"
    }
   ],
   "source": [
    "(has-item?  d 'a)"
   ]
  },
  {
   "cell_type": "code",
   "execution_count": 32,
   "metadata": {},
   "outputs": [
    {
     "data": {
      "text/plain": [
       "#f"
      ]
     },
     "execution_count": 32,
     "metadata": {},
     "output_type": "execute_result"
    }
   ],
   "source": [
    "(has-item?  d 'c)"
   ]
  },
  {
   "cell_type": "code",
   "execution_count": 9,
   "metadata": {},
   "outputs": [],
   "source": [
    "(define-syntax my-macro \n",
    "   (lambda (exp)\n",
    "      `(lambda (x) ,exp)))"
   ]
  },
  {
   "cell_type": "code",
   "execution_count": 10,
   "metadata": {},
   "outputs": [
    {
     "name": "stderr",
     "output_type": "stream",
     "text": [
      "\u001b[0;31m\n",
      "Traceback (most recent call last):\n",
      "  File \"In [10]\", line 1, col 1, in 'parse'\n",
      "KeyboardInterrupt: Keyboard interrupt\n",
      "\n",
      "\u001b[0m"
     ]
    }
   ],
   "source": [
    "(parse '(my-macro 1))"
   ]
  },
  {
   "cell_type": "code",
   "execution_count": 6,
   "metadata": {},
   "outputs": [
    {
     "data": {
      "text/plain": [
       "42"
      ]
     },
     "execution_count": 6,
     "metadata": {},
     "output_type": "execute_result"
    }
   ],
   "source": [
    "(my-macro 1)"
   ]
  },
  {
   "cell_type": "code",
   "execution_count": 45,
   "metadata": {},
   "outputs": [
    {
     "name": "stderr",
     "output_type": "stream",
     "text": [
      "\u001b[0;31m\n",
      "Traceback (most recent call last):\n",
      "  File \"In [45]\", line 1, col 1\n",
      "RunTimeError: unbound variable 'hello'\n",
      "\n",
      "\u001b[0m"
     ]
    }
   ],
   "source": []
  },
  {
   "cell_type": "code",
   "execution_count": null,
   "metadata": {},
   "outputs": [],
   "source": []
  }
 ],
 "metadata": {
  "kernelspec": {
   "display_name": "Calysto Scheme (Python)",
   "language": "scheme",
   "name": "calysto_scheme"
  },
  "language_info": {
   "codemirror_mode": {
    "name": "scheme"
   },
   "mimetype": "text/x-scheme",
   "name": "scheme",
   "pygments_lexer": "scheme"
  }
 },
 "nbformat": 4,
 "nbformat_minor": 2
}
